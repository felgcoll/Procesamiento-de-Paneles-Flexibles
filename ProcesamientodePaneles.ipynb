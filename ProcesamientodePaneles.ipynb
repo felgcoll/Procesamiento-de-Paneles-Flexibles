{
 "cells": [
  {
   "cell_type": "markdown",
   "metadata": {},
   "source": [
    "# Procesamiento de Imágenes\n",
    "\n",
    "El siguiente notebook tiene como objetivo realizar el procesamiento de imágenes correspondiente a paneles flexibles (banderas invertidas), las cuales han sido capturadas en vídeos bajo condiciones de luminosidad deficiente.\n",
    "\n",
    "El dataset consta de varios frames correspondiente al vídeo anteriormente mencionado, los cuales son facilitados para su uso.\n",
    "\n",
    "Para realizar el procesamiento de este tipo de imágenes, se realizaron 2 diferentes conjuntos de operaciones para llegar a un "
   ]
  },
  {
   "cell_type": "markdown",
   "metadata": {},
   "source": [
    "## Primer conjunto\n",
    "### Eliminación de la base fija\n",
    "Antes de empezar con el procesamiento de imágenes se creó una función que permitiría iterar a través de diferentes carpetas de archivos, lo cual permitirá recorrer archivos requeridos para su posterior procesamiento. Para ello fue requerida\n",
    "Para esta operación se recorrió el"
   ]
  },
  {
   "cell_type": "code",
   "execution_count": null,
   "metadata": {},
   "outputs": [],
   "source": []
  }
 ],
 "metadata": {
  "kernelspec": {
   "display_name": "Python 3",
   "language": "python",
   "name": "python3"
  },
  "language_info": {
   "codemirror_mode": {
    "name": "ipython",
    "version": 3
   },
   "file_extension": ".py",
   "mimetype": "text/x-python",
   "name": "python",
   "nbconvert_exporter": "python",
   "pygments_lexer": "ipython3",
   "version": "3.7.4"
  }
 },
 "nbformat": 4,
 "nbformat_minor": 2
}
